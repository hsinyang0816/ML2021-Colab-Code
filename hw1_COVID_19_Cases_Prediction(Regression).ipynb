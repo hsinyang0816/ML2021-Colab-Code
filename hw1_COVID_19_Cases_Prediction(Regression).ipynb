{
  "nbformat": 4,
  "nbformat_minor": 0,
  "metadata": {
    "colab": {
      "name": "hw1_COVID-19_Cases_Prediction(Regression).ipynb",
      "provenance": [],
      "collapsed_sections": [],
      "toc_visible": true,
      "include_colab_link": true
    },
    "kernelspec": {
      "name": "python3",
      "display_name": "Python 3"
    },
    "accelerator": "GPU"
  },
  "cells": [
    {
      "cell_type": "markdown",
      "metadata": {
        "id": "view-in-github",
        "colab_type": "text"
      },
      "source": [
        "<a href=\"https://colab.research.google.com/github/hsinyang0816/ML2021-Colab-Code/blob/master/hw1_COVID_19_Cases_Prediction(Regression).ipynb\" target=\"_parent\"><img src=\"https://colab.research.google.com/assets/colab-badge.svg\" alt=\"Open In Colab\"/></a>"
      ]
    },
    {
      "cell_type": "markdown",
      "metadata": {
        "id": "mz0_QVkxCrX3"
      },
      "source": [
        "# **Homework 1: COVID-19 Cases Prediction (Regression)**"
      ]
    },
    {
      "cell_type": "markdown",
      "metadata": {
        "id": "ZeZnPAiwDRWG"
      },
      "source": [
        "Author: Heng-Jui Chang\n",
        "\n",
        "Slides: https://github.com/ga642381/ML2021-Spring/blob/main/HW01/HW01.pdf  \n",
        "Video: TBA\n",
        "\n",
        "Objectives:\n",
        "* Solve a regression problem with deep neural networks (DNN).\n",
        "* Understand basic DNN training tips.\n",
        "* Get familiar with PyTorch.\n",
        "\n",
        "If any questions, please contact the TAs via TA hours, NTU COOL, or email.\n"
      ]
    },
    {
      "cell_type": "markdown",
      "metadata": {
        "id": "Jx3x1nDkG-Uy"
      },
      "source": [
        "# **Download Data**\n",
        "\n",
        "\n",
        "If the Google drive links are dead, you can download data from [kaggle](https://www.kaggle.com/c/ml2021spring-hw1/data), and upload data manually to the workspace."
      ]
    },
    {
      "cell_type": "code",
      "metadata": {
        "colab": {
          "base_uri": "https://localhost:8080/"
        },
        "id": "tMj55YDKG6ch",
        "outputId": "5f5a7a05-72f7-4da0-e1f6-ea1f9ebdef18"
      },
      "source": [
        "tr_path = 'covid.train.csv'  # path to training data\n",
        "tt_path = 'covid.test.csv'   # path to testing data\n",
        "\n",
        "!gdown --id '19CCyCgJrUxtvgZF53vnctJiOJ23T5mqF' --output covid.train.csv\n",
        "!gdown --id '1CE240jLm2npU-tdz81-oVKEF3T2yfT1O' --output covid.test.csv"
      ],
      "execution_count": null,
      "outputs": [
        {
          "output_type": "stream",
          "text": [
            "Downloading...\n",
            "From: https://drive.google.com/uc?id=19CCyCgJrUxtvgZF53vnctJiOJ23T5mqF\n",
            "To: /content/covid.train.csv\n",
            "100% 2.00M/2.00M [00:00<00:00, 31.4MB/s]\n",
            "Downloading...\n",
            "From: https://drive.google.com/uc?id=1CE240jLm2npU-tdz81-oVKEF3T2yfT1O\n",
            "To: /content/covid.test.csv\n",
            "100% 651k/651k [00:00<00:00, 10.2MB/s]\n"
          ],
          "name": "stdout"
        }
      ]
    },
    {
      "cell_type": "markdown",
      "metadata": {
        "id": "wS_4-77xHk44"
      },
      "source": [
        "# **Import Some Packages**"
      ]
    },
    {
      "cell_type": "code",
      "metadata": {
        "id": "k-onQd4JNA5H"
      },
      "source": [
        "# PyTorch\n",
        "import torch\n",
        "import torch.nn as nn\n",
        "from torch.utils.data import Dataset, DataLoader\n",
        "\n",
        "# For data preprocess\n",
        "import numpy as np\n",
        "import csv\n",
        "import os\n",
        "\n",
        "# For plotting\n",
        "import matplotlib.pyplot as plt\n",
        "from matplotlib.pyplot import figure\n",
        "\n",
        "myseed = 42069  # set a random seed for reproducibility\n",
        "torch.backends.cudnn.deterministic = True\n",
        "torch.backends.cudnn.benchmark = False\n",
        "np.random.seed(myseed)\n",
        "torch.manual_seed(myseed)\n",
        "if torch.cuda.is_available():\n",
        "    torch.cuda.manual_seed_all(myseed)"
      ],
      "execution_count": null,
      "outputs": []
    },
    {
      "cell_type": "markdown",
      "metadata": {
        "id": "BtE3b6JEH7rw"
      },
      "source": [
        "# **Some Utilities**\n",
        "\n",
        "You do not need to modify this part."
      ]
    },
    {
      "cell_type": "code",
      "metadata": {
        "id": "FWMT3uf1NGQp"
      },
      "source": [
        "def get_device():\n",
        "    ''' Get device (if GPU is available, use GPU) '''\n",
        "    return 'cuda' if torch.cuda.is_available() else 'cpu'\n",
        "\n",
        "def plot_learning_curve(loss_record, title=''):\n",
        "    ''' Plot learning curve of your DNN (train & dev loss) '''\n",
        "    total_steps = len(loss_record['train'])\n",
        "    x_1 = range(total_steps)\n",
        "    x_2 = x_1[::len(loss_record['train']) // len(loss_record['dev'])]\n",
        "    figure(figsize=(6, 4))\n",
        "    plt.plot(x_1, loss_record['train'], c='tab:red', label='train')\n",
        "    plt.plot(x_2, loss_record['dev'], c='tab:cyan', label='dev')\n",
        "    plt.ylim(0.0, 5.)\n",
        "    plt.xlabel('Training steps')\n",
        "    plt.ylabel('MSE loss')\n",
        "    plt.title('Learning curve of {}'.format(title))\n",
        "    plt.legend()\n",
        "    plt.show()\n",
        "    print(loss_record['train'][-1])\n",
        "    print(loss_record['dev'][-1])\n",
        "\n",
        "\n",
        "def plot_pred(dv_set, model, device, lim=35., preds=None, targets=None):\n",
        "    ''' Plot prediction of your DNN '''\n",
        "    if preds is None or targets is None:\n",
        "        model.eval()\n",
        "        preds, targets = [], []\n",
        "        for x, y in dv_set:\n",
        "            x, y = x.to(device), y.to(device)\n",
        "            with torch.no_grad():\n",
        "                pred = model(x)\n",
        "                preds.append(pred.detach().cpu())\n",
        "                targets.append(y.detach().cpu())\n",
        "        preds = torch.cat(preds, dim=0).numpy()\n",
        "        targets = torch.cat(targets, dim=0).numpy()\n",
        "\n",
        "    figure(figsize=(5, 5))\n",
        "    plt.scatter(targets, preds, c='r', alpha=0.5)\n",
        "    plt.plot([-0.2, lim], [-0.2, lim], c='b')\n",
        "    plt.xlim(-0.2, lim)\n",
        "    plt.ylim(-0.2, lim)\n",
        "    plt.xlabel('ground truth value')\n",
        "    plt.ylabel('predicted value')\n",
        "    plt.title('Ground Truth v.s. Prediction')\n",
        "    plt.show()"
      ],
      "execution_count": null,
      "outputs": []
    },
    {
      "cell_type": "markdown",
      "metadata": {
        "id": "39U_XFX6KOoj"
      },
      "source": [
        "# **Preprocess**\n",
        "\n",
        "We have three kinds of datasets:\n",
        "* `train`: for training\n",
        "* `dev`: for validation\n",
        "* `test`: for testing (w/o target value)"
      ]
    },
    {
      "cell_type": "markdown",
      "metadata": {
        "id": "TQ-MdwpLL7Dt"
      },
      "source": [
        "## **Dataset**\n",
        "\n",
        "The `COVID19Dataset` below does:\n",
        "* read `.csv` files\n",
        "* extract features\n",
        "* split `covid.train.csv` into train/dev sets\n",
        "* normalize features\n",
        "\n",
        "Finishing `TODO` below might make you pass medium baseline."
      ]
    },
    {
      "cell_type": "code",
      "metadata": {
        "id": "0zlpIp9ANJRU"
      },
      "source": [
        "class COVID19Dataset(Dataset):\n",
        "    ''' Dataset for loading and preprocessing the COVID19 dataset '''\n",
        "    def __init__(self,\n",
        "                 path,\n",
        "                 mode='train',\n",
        "                 target_only=False):\n",
        "        self.mode = mode\n",
        "\n",
        "        # Read data into numpy arrays\n",
        "        with open(path, 'r') as fp:\n",
        "            data = list(csv.reader(fp))\n",
        "            data = np.array(data[1:])[:, 1:].astype(float)\n",
        "        \n",
        "        if not target_only:\n",
        "            feats = list(range(93))\n",
        "        else:\n",
        "            # TODO: Using 40 states & 2 tested_positive features (indices = 57 & 75)\n",
        "            #feats = list(range(40)) + [42, 43, 57, 60, 61, 75, 78, 79]\n",
        "            feats = list(range(40)) + [40, 41, 42, 43, 57, 58, 59, 60, 61, 75, 76, 77, 78, 79]\n",
        "            #feats = [40, 41, 42, 43, 57, 58, 59, 60, 61, 75, 76, 77, 78, 79]\n",
        "            pass\n",
        "\n",
        "        if mode == 'test':\n",
        "            # Testing data\n",
        "            # data: 893 x 93 (40 states + day 1 (18) + day 2 (18) + day 3 (17))\n",
        "            data = data[:, feats]\n",
        "            self.data = torch.FloatTensor(data)\n",
        "        else:\n",
        "            # Training data (train/dev sets)\n",
        "            # data: 2700 x 94 (40 states + day 1 (18) + day 2 (18) + day 3 (18))\n",
        "            target = data[:, -1]\n",
        "            data = data[:, feats]\n",
        "            \n",
        "            # Splitting training data into train & dev sets\n",
        "            if mode == 'train':\n",
        "                indices = [i for i in range(len(data)) if i % 10 != 1]\n",
        "            elif mode == 'dev':\n",
        "                indices = [i for i in range(len(data)) if i % 10 == 1]\n",
        "            \n",
        "            # Convert data into PyTorch tensors\n",
        "            self.data = torch.FloatTensor(data[indices])\n",
        "            self.target = torch.FloatTensor(target[indices])\n",
        "\n",
        "        # Normalize features (you may remove this part to see what will happen)\n",
        "        #self.data[:, :] = \\\n",
        "        #    (self.data[:, :] - self.data[:, :].mean(dim=0, keepdim=True)) \\\n",
        "        #    / self.data[:, :].std(dim=0, keepdim=True)\n",
        "        #self.data[:, 40:] = \\\n",
        "        #    (self.data[:, 40:] - self.data[:, 40:].mean(dim=0, keepdim=True)) \\\n",
        "        #    / self.data[:, 40:].std(dim=0, keepdim=True)\n",
        "\n",
        "        self.dim = self.data.shape[1]\n",
        "\n",
        "        print('Finished reading the {} set of COVID19 Dataset ({} samples found, each dim = {})'\n",
        "              .format(mode, len(self.data), self.dim))\n",
        "\n",
        "    def __getitem__(self, index):\n",
        "        # Returns one sample at a time\n",
        "        if self.mode in ['train', 'dev']:\n",
        "            # For training\n",
        "            return self.data[index], self.target[index]\n",
        "        else:\n",
        "            # For testing (no target)\n",
        "            return self.data[index]\n",
        "\n",
        "    def __len__(self):\n",
        "        # Returns the size of the dataset\n",
        "        return len(self.data)"
      ],
      "execution_count": null,
      "outputs": []
    },
    {
      "cell_type": "markdown",
      "metadata": {
        "id": "AlhTlkE7MDo3"
      },
      "source": [
        "## **DataLoader**\n",
        "\n",
        "A `DataLoader` loads data from a given `Dataset` into batches.\n"
      ]
    },
    {
      "cell_type": "code",
      "metadata": {
        "id": "hlhLk5t6MBX3"
      },
      "source": [
        "def prep_dataloader(path, mode, batch_size, n_jobs=0, target_only=False):\n",
        "    ''' Generates a dataset, then is put into a dataloader. '''\n",
        "    dataset = COVID19Dataset(path, mode=mode, target_only=target_only)  # Construct dataset\n",
        "    dataloader = DataLoader(\n",
        "        dataset, batch_size,\n",
        "        shuffle=(mode == 'train'), drop_last=False,\n",
        "        num_workers=n_jobs, pin_memory=True)                            # Construct dataloader\n",
        "    return dataloader"
      ],
      "execution_count": null,
      "outputs": []
    },
    {
      "cell_type": "markdown",
      "metadata": {
        "id": "SGuycwR0MeQB"
      },
      "source": [
        "# **Deep Neural Network**\n",
        "\n",
        "`NeuralNet` is an `nn.Module` designed for regression.\n",
        "The DNN consists of 2 fully-connected layers with ReLU activation.\n",
        "This module also included a function `cal_loss` for calculating loss.\n"
      ]
    },
    {
      "cell_type": "code",
      "metadata": {
        "id": "49-uXYovOAI0"
      },
      "source": [
        "class NeuralNet(nn.Module):\n",
        "    ''' A simple fully-connected deep neural network '''\n",
        "    def __init__(self, input_dim):\n",
        "        super(NeuralNet, self).__init__()\n",
        "\n",
        "        # Define your neural network here\n",
        "        # TODO: How to modify this model to achieve better performance?\n",
        "        self.net = nn.Sequential(\n",
        "            nn.Linear(input_dim, input_dim),\n",
        "            #nn.ReLU(),\n",
        "            nn.Linear(input_dim, 1)\n",
        "        )\n",
        "\n",
        "        # Mean squared error loss\n",
        "        self.criterion = nn.MSELoss(reduction='mean')\n",
        "\n",
        "    def forward(self, x):\n",
        "        ''' Given input of size (batch_size x input_dim), compute output of the network '''\n",
        "        return self.net(x).squeeze(1)\n",
        "\n",
        "    def cal_loss(self, pred, target):\n",
        "        ''' Calculate loss '''\n",
        "        # TODO: you may implement L2 regularization here\n",
        "        return torch.sqrt(self.criterion(pred, target))"
      ],
      "execution_count": null,
      "outputs": []
    },
    {
      "cell_type": "markdown",
      "metadata": {
        "id": "DvFWVjZ5Nvga"
      },
      "source": [
        "# **Train/Dev/Test**"
      ]
    },
    {
      "cell_type": "markdown",
      "metadata": {
        "id": "MAM8QecJOyqn"
      },
      "source": [
        "## **Training**"
      ]
    },
    {
      "cell_type": "code",
      "metadata": {
        "id": "lOqcmYzMO7jB"
      },
      "source": [
        "def train(tr_set, dv_set, model, config, device):\n",
        "    ''' DNN training '''\n",
        "\n",
        "    n_epochs = config['n_epochs']  # Maximum number of epochs\n",
        "\n",
        "    # Setup optimizer\n",
        "    optimizer = getattr(torch.optim, config['optimizer'])(\n",
        "        model.parameters(), **config['optim_hparas'])\n",
        "\n",
        "    min_mse = 1000.\n",
        "    loss_record = {'train': [], 'dev': []}      # for recording training loss\n",
        "    early_stop_cnt = 0\n",
        "    epoch = 0\n",
        "    while epoch < n_epochs:\n",
        "        model.train()                           # set model to training mode\n",
        "        for x, y in tr_set:                     # iterate through the dataloader\n",
        "            optimizer.zero_grad()               # set gradient to zero\n",
        "            x, y = x.to(device), y.to(device)   # move data to device (cpu/cuda)\n",
        "            pred = model(x)                     # forward pass (compute output)\n",
        "            mse_loss = model.cal_loss(pred, y)  # compute loss\n",
        "            mse_loss.backward()                 # compute gradient (backpropagation)\n",
        "            optimizer.step()                    # update model with optimizer\n",
        "            loss_record['train'].append(mse_loss.detach().cpu().item())\n",
        "\n",
        "        # After each epoch, test your model on the validation (development) set.\n",
        "        dev_mse = dev(dv_set, model, device)\n",
        "        if dev_mse < min_mse:\n",
        "            # Save model if your model improved\n",
        "            min_mse = dev_mse\n",
        "            print('Saving model (epoch = {:4d}, loss = {:.4f})'\n",
        "                .format(epoch + 1, min_mse))\n",
        "            torch.save(model.state_dict(), config['save_path'])  # Save model to specified path\n",
        "            early_stop_cnt = 0\n",
        "        else:\n",
        "            early_stop_cnt += 1\n",
        "\n",
        "        epoch += 1\n",
        "        loss_record['dev'].append(dev_mse)\n",
        "        if early_stop_cnt > config['early_stop']:\n",
        "            # Stop training if your model stops improving for \"config['early_stop']\" epochs.\n",
        "            break\n",
        "\n",
        "    print('Finished training after {} epochs'.format(epoch))\n",
        "    return min_mse, loss_record"
      ],
      "execution_count": null,
      "outputs": []
    },
    {
      "cell_type": "markdown",
      "metadata": {
        "id": "0hSd4Bn3O2PL"
      },
      "source": [
        "## **Validation**"
      ]
    },
    {
      "cell_type": "code",
      "metadata": {
        "id": "yrxrD3YsN3U2"
      },
      "source": [
        "def dev(dv_set, model, device):\n",
        "    model.eval()                                # set model to evalutation mode\n",
        "    total_loss = 0\n",
        "    for x, y in dv_set:                         # iterate through the dataloader\n",
        "        x, y = x.to(device), y.to(device)       # move data to device (cpu/cuda)\n",
        "        with torch.no_grad():                   # disable gradient calculation\n",
        "            pred = model(x)                     # forward pass (compute output)\n",
        "            mse_loss = model.cal_loss(pred, y)  # compute loss\n",
        "        total_loss += mse_loss.detach().cpu().item() * len(x)  # accumulate loss\n",
        "    total_loss = total_loss / len(dv_set.dataset)              # compute averaged loss\n",
        "\n",
        "    return total_loss"
      ],
      "execution_count": null,
      "outputs": []
    },
    {
      "cell_type": "markdown",
      "metadata": {
        "id": "g0pdrhQAO41L"
      },
      "source": [
        "## **Testing**"
      ]
    },
    {
      "cell_type": "code",
      "metadata": {
        "id": "aSBMRFlYN5tB"
      },
      "source": [
        "def test(tt_set, model, device):\n",
        "    model.eval()                                # set model to evalutation mode\n",
        "    preds = []\n",
        "    for x in tt_set:                            # iterate through the dataloader\n",
        "        x = x.to(device)                        # move data to device (cpu/cuda)\n",
        "        with torch.no_grad():                   # disable gradient calculation\n",
        "            pred = model(x)                     # forward pass (compute output)\n",
        "            preds.append(pred.detach().cpu())   # collect prediction\n",
        "    preds = torch.cat(preds, dim=0).numpy()     # concatenate all predictions and convert to a numpy array\n",
        "    return preds"
      ],
      "execution_count": null,
      "outputs": []
    },
    {
      "cell_type": "markdown",
      "metadata": {
        "id": "SvckkF5dvf0j"
      },
      "source": [
        "# **Setup Hyper-parameters**\n",
        "\n",
        "`config` contains hyper-parameters for training and the path to save your model."
      ]
    },
    {
      "cell_type": "code",
      "metadata": {
        "id": "NPXpdumwPjE7"
      },
      "source": [
        "device = get_device()                 # get the current available device ('cpu' or 'cuda')\n",
        "os.makedirs('models', exist_ok=True)  # The trained model will be saved to ./models/\n",
        "target_only = True                   # TODO: Using 40 states & 2 tested_positive features\n",
        "\n",
        "# TODO: How to tune these hyper-parameters to improve your model's performance?\n",
        "config = {\n",
        "    'n_epochs': 20000,                # maximum number of epochs\n",
        "    'batch_size': 270,               # mini-batch size for dataloader\n",
        "    'optimizer': 'SGD',              # optimization algorithm (optimizer in torch.optim)\n",
        "    'optim_hparas': {                # hyper-parameters for the optimizer (depends on which optimizer you are using)\n",
        "        'lr': 0.00008,                 # learning rate of SGD\n",
        "        'momentum': 0.9,              # momentum for SGD\n",
        "        'weight_decay': 0.001\n",
        "    },\n",
        "    'early_stop': 300,               # early stopping epochs (the number epochs since your model's last improvement)\n",
        "    'save_path': 'models/model.pth'  # your model will be saved here\n",
        "}"
      ],
      "execution_count": null,
      "outputs": []
    },
    {
      "cell_type": "markdown",
      "metadata": {
        "id": "6j1eOV3TOH-j"
      },
      "source": [
        "# **Load data and model**"
      ]
    },
    {
      "cell_type": "code",
      "metadata": {
        "colab": {
          "base_uri": "https://localhost:8080/"
        },
        "id": "eNrYBMmePLKm",
        "outputId": "69801542-77bf-4662-d4fe-7b4a7c1ba94d"
      },
      "source": [
        "tr_set = prep_dataloader(tr_path, 'train', config['batch_size'], target_only=target_only)\n",
        "dv_set = prep_dataloader(tr_path, 'dev', config['batch_size'], target_only=target_only)\n",
        "tt_set = prep_dataloader(tt_path, 'test', config['batch_size'], target_only=target_only)"
      ],
      "execution_count": null,
      "outputs": [
        {
          "output_type": "stream",
          "text": [
            "Finished reading the train set of COVID19 Dataset (2430 samples found, each dim = 54)\n",
            "Finished reading the dev set of COVID19 Dataset (270 samples found, each dim = 54)\n",
            "Finished reading the test set of COVID19 Dataset (893 samples found, each dim = 54)\n"
          ],
          "name": "stdout"
        }
      ]
    },
    {
      "cell_type": "code",
      "metadata": {
        "id": "FHylSirLP9oh"
      },
      "source": [
        "model = NeuralNet(tr_set.dataset.dim).to(device)  # Construct model and move to device"
      ],
      "execution_count": null,
      "outputs": []
    },
    {
      "cell_type": "markdown",
      "metadata": {
        "id": "sX2B_zgSOPTJ"
      },
      "source": [
        "# **Start Training!**"
      ]
    },
    {
      "cell_type": "code",
      "metadata": {
        "colab": {
          "base_uri": "https://localhost:8080/"
        },
        "id": "GrEbUxazQAAZ",
        "outputId": "2ea7271a-1996-488a-dba9-6dbd17c7141c"
      },
      "source": [
        "model_loss, model_loss_record = train(tr_set, dv_set, model, config, device)"
      ],
      "execution_count": null,
      "outputs": [
        {
          "output_type": "stream",
          "text": [
            "Saving model (epoch =    1, loss = 4.9557)\n",
            "Saving model (epoch =    3, loss = 4.0184)\n",
            "Saving model (epoch =    4, loss = 3.2886)\n",
            "Saving model (epoch =    5, loss = 3.0313)\n",
            "Saving model (epoch =    6, loss = 2.9135)\n",
            "Saving model (epoch =    7, loss = 2.8050)\n",
            "Saving model (epoch =    8, loss = 2.7021)\n",
            "Saving model (epoch =    9, loss = 2.5927)\n",
            "Saving model (epoch =   10, loss = 2.4864)\n",
            "Saving model (epoch =   11, loss = 2.3754)\n",
            "Saving model (epoch =   12, loss = 2.2670)\n",
            "Saving model (epoch =   13, loss = 2.1567)\n",
            "Saving model (epoch =   14, loss = 2.0476)\n",
            "Saving model (epoch =   15, loss = 1.9425)\n",
            "Saving model (epoch =   16, loss = 1.8383)\n",
            "Saving model (epoch =   17, loss = 1.7322)\n",
            "Saving model (epoch =   18, loss = 1.6343)\n",
            "Saving model (epoch =   19, loss = 1.5432)\n",
            "Saving model (epoch =   20, loss = 1.4598)\n",
            "Saving model (epoch =   21, loss = 1.3995)\n",
            "Saving model (epoch =   22, loss = 1.3324)\n",
            "Saving model (epoch =   23, loss = 1.2778)\n",
            "Saving model (epoch =   24, loss = 1.2449)\n",
            "Saving model (epoch =   25, loss = 1.2176)\n",
            "Saving model (epoch =   26, loss = 1.2031)\n",
            "Saving model (epoch =   27, loss = 1.1920)\n",
            "Saving model (epoch =   28, loss = 1.1850)\n",
            "Saving model (epoch =   29, loss = 1.1816)\n",
            "Saving model (epoch =   30, loss = 1.1790)\n",
            "Saving model (epoch =   33, loss = 1.1745)\n",
            "Saving model (epoch =   34, loss = 1.1738)\n",
            "Saving model (epoch =   37, loss = 1.1707)\n",
            "Saving model (epoch =   40, loss = 1.1683)\n",
            "Saving model (epoch =   41, loss = 1.1679)\n",
            "Saving model (epoch =   42, loss = 1.1667)\n",
            "Saving model (epoch =   46, loss = 1.1651)\n",
            "Saving model (epoch =   48, loss = 1.1605)\n",
            "Saving model (epoch =   49, loss = 1.1602)\n",
            "Saving model (epoch =   51, loss = 1.1588)\n",
            "Saving model (epoch =   53, loss = 1.1558)\n",
            "Saving model (epoch =   54, loss = 1.1551)\n",
            "Saving model (epoch =   55, loss = 1.1541)\n",
            "Saving model (epoch =   58, loss = 1.1535)\n",
            "Saving model (epoch =   59, loss = 1.1528)\n",
            "Saving model (epoch =   60, loss = 1.1520)\n",
            "Saving model (epoch =   61, loss = 1.1491)\n",
            "Saving model (epoch =   64, loss = 1.1490)\n",
            "Saving model (epoch =   66, loss = 1.1489)\n",
            "Saving model (epoch =   70, loss = 1.1438)\n",
            "Saving model (epoch =   72, loss = 1.1411)\n",
            "Saving model (epoch =   74, loss = 1.1410)\n",
            "Saving model (epoch =   75, loss = 1.1383)\n",
            "Saving model (epoch =   78, loss = 1.1360)\n",
            "Saving model (epoch =   81, loss = 1.1339)\n",
            "Saving model (epoch =   84, loss = 1.1319)\n",
            "Saving model (epoch =   86, loss = 1.1311)\n",
            "Saving model (epoch =   90, loss = 1.1284)\n",
            "Saving model (epoch =   91, loss = 1.1273)\n",
            "Saving model (epoch =   92, loss = 1.1269)\n",
            "Saving model (epoch =   93, loss = 1.1260)\n",
            "Saving model (epoch =   95, loss = 1.1253)\n",
            "Saving model (epoch =  100, loss = 1.1246)\n",
            "Saving model (epoch =  102, loss = 1.1212)\n",
            "Saving model (epoch =  107, loss = 1.1179)\n",
            "Saving model (epoch =  109, loss = 1.1178)\n",
            "Saving model (epoch =  111, loss = 1.1158)\n",
            "Saving model (epoch =  112, loss = 1.1158)\n",
            "Saving model (epoch =  114, loss = 1.1139)\n",
            "Saving model (epoch =  118, loss = 1.1119)\n",
            "Saving model (epoch =  120, loss = 1.1111)\n",
            "Saving model (epoch =  121, loss = 1.1106)\n",
            "Saving model (epoch =  124, loss = 1.1089)\n",
            "Saving model (epoch =  127, loss = 1.1074)\n",
            "Saving model (epoch =  128, loss = 1.1073)\n",
            "Saving model (epoch =  131, loss = 1.1056)\n",
            "Saving model (epoch =  137, loss = 1.1029)\n",
            "Saving model (epoch =  138, loss = 1.1028)\n",
            "Saving model (epoch =  139, loss = 1.1024)\n",
            "Saving model (epoch =  144, loss = 1.1002)\n",
            "Saving model (epoch =  145, loss = 1.0996)\n",
            "Saving model (epoch =  146, loss = 1.0995)\n",
            "Saving model (epoch =  147, loss = 1.0989)\n",
            "Saving model (epoch =  148, loss = 1.0984)\n",
            "Saving model (epoch =  153, loss = 1.0966)\n",
            "Saving model (epoch =  156, loss = 1.0957)\n",
            "Saving model (epoch =  160, loss = 1.0951)\n",
            "Saving model (epoch =  161, loss = 1.0939)\n",
            "Saving model (epoch =  162, loss = 1.0937)\n",
            "Saving model (epoch =  166, loss = 1.0929)\n",
            "Saving model (epoch =  171, loss = 1.0906)\n",
            "Saving model (epoch =  174, loss = 1.0899)\n",
            "Saving model (epoch =  177, loss = 1.0891)\n",
            "Saving model (epoch =  182, loss = 1.0882)\n",
            "Saving model (epoch =  185, loss = 1.0871)\n",
            "Saving model (epoch =  186, loss = 1.0863)\n",
            "Saving model (epoch =  195, loss = 1.0860)\n",
            "Saving model (epoch =  196, loss = 1.0836)\n",
            "Saving model (epoch =  198, loss = 1.0831)\n",
            "Saving model (epoch =  201, loss = 1.0824)\n",
            "Saving model (epoch =  204, loss = 1.0818)\n",
            "Saving model (epoch =  206, loss = 1.0815)\n",
            "Saving model (epoch =  208, loss = 1.0808)\n",
            "Saving model (epoch =  215, loss = 1.0795)\n",
            "Saving model (epoch =  227, loss = 1.0782)\n",
            "Saving model (epoch =  233, loss = 1.0765)\n",
            "Saving model (epoch =  234, loss = 1.0762)\n",
            "Saving model (epoch =  237, loss = 1.0756)\n",
            "Saving model (epoch =  251, loss = 1.0746)\n",
            "Saving model (epoch =  254, loss = 1.0735)\n",
            "Saving model (epoch =  256, loss = 1.0733)\n",
            "Saving model (epoch =  263, loss = 1.0730)\n",
            "Saving model (epoch =  264, loss = 1.0724)\n",
            "Saving model (epoch =  268, loss = 1.0716)\n",
            "Saving model (epoch =  272, loss = 1.0712)\n",
            "Saving model (epoch =  275, loss = 1.0709)\n",
            "Saving model (epoch =  285, loss = 1.0701)\n",
            "Saving model (epoch =  296, loss = 1.0701)\n",
            "Saving model (epoch =  298, loss = 1.0692)\n",
            "Saving model (epoch =  302, loss = 1.0685)\n",
            "Saving model (epoch =  304, loss = 1.0685)\n",
            "Saving model (epoch =  310, loss = 1.0681)\n",
            "Saving model (epoch =  316, loss = 1.0675)\n",
            "Saving model (epoch =  320, loss = 1.0674)\n",
            "Saving model (epoch =  332, loss = 1.0672)\n",
            "Saving model (epoch =  334, loss = 1.0666)\n",
            "Saving model (epoch =  344, loss = 1.0662)\n",
            "Saving model (epoch =  346, loss = 1.0660)\n",
            "Saving model (epoch =  349, loss = 1.0657)\n",
            "Saving model (epoch =  355, loss = 1.0656)\n",
            "Saving model (epoch =  363, loss = 1.0652)\n",
            "Saving model (epoch =  373, loss = 1.0648)\n",
            "Saving model (epoch =  384, loss = 1.0647)\n",
            "Saving model (epoch =  393, loss = 1.0646)\n",
            "Saving model (epoch =  394, loss = 1.0642)\n",
            "Saving model (epoch =  401, loss = 1.0641)\n",
            "Saving model (epoch =  417, loss = 1.0637)\n",
            "Saving model (epoch =  424, loss = 1.0636)\n",
            "Saving model (epoch =  428, loss = 1.0636)\n",
            "Saving model (epoch =  429, loss = 1.0635)\n",
            "Saving model (epoch =  441, loss = 1.0632)\n",
            "Saving model (epoch =  448, loss = 1.0631)\n",
            "Saving model (epoch =  452, loss = 1.0630)\n",
            "Saving model (epoch =  463, loss = 1.0629)\n",
            "Saving model (epoch =  492, loss = 1.0625)\n",
            "Saving model (epoch =  494, loss = 1.0625)\n",
            "Saving model (epoch =  512, loss = 1.0624)\n",
            "Saving model (epoch =  513, loss = 1.0622)\n",
            "Saving model (epoch =  532, loss = 1.0621)\n",
            "Saving model (epoch =  546, loss = 1.0619)\n",
            "Saving model (epoch =  550, loss = 1.0618)\n",
            "Saving model (epoch =  556, loss = 1.0618)\n",
            "Saving model (epoch =  563, loss = 1.0616)\n",
            "Saving model (epoch =  566, loss = 1.0615)\n",
            "Saving model (epoch =  587, loss = 1.0614)\n",
            "Saving model (epoch =  605, loss = 1.0614)\n",
            "Saving model (epoch =  633, loss = 1.0610)\n",
            "Saving model (epoch =  647, loss = 1.0609)\n",
            "Saving model (epoch =  658, loss = 1.0609)\n",
            "Saving model (epoch =  701, loss = 1.0606)\n",
            "Saving model (epoch =  715, loss = 1.0605)\n",
            "Saving model (epoch =  719, loss = 1.0605)\n",
            "Saving model (epoch =  747, loss = 1.0605)\n",
            "Saving model (epoch =  759, loss = 1.0604)\n",
            "Saving model (epoch =  778, loss = 1.0604)\n",
            "Saving model (epoch =  811, loss = 1.0603)\n",
            "Saving model (epoch =  814, loss = 1.0601)\n",
            "Saving model (epoch =  831, loss = 1.0599)\n",
            "Saving model (epoch =  832, loss = 1.0599)\n",
            "Saving model (epoch =  842, loss = 1.0599)\n",
            "Saving model (epoch =  854, loss = 1.0597)\n",
            "Saving model (epoch =  910, loss = 1.0596)\n",
            "Saving model (epoch =  915, loss = 1.0594)\n",
            "Saving model (epoch =  932, loss = 1.0594)\n",
            "Saving model (epoch =  965, loss = 1.0593)\n",
            "Saving model (epoch =  968, loss = 1.0592)\n",
            "Saving model (epoch =  988, loss = 1.0591)\n",
            "Saving model (epoch = 1009, loss = 1.0590)\n",
            "Saving model (epoch = 1021, loss = 1.0590)\n",
            "Saving model (epoch = 1033, loss = 1.0589)\n",
            "Saving model (epoch = 1066, loss = 1.0588)\n",
            "Saving model (epoch = 1074, loss = 1.0587)\n",
            "Saving model (epoch = 1101, loss = 1.0587)\n",
            "Saving model (epoch = 1113, loss = 1.0587)\n",
            "Saving model (epoch = 1135, loss = 1.0587)\n",
            "Saving model (epoch = 1158, loss = 1.0584)\n",
            "Saving model (epoch = 1213, loss = 1.0583)\n",
            "Saving model (epoch = 1238, loss = 1.0582)\n",
            "Saving model (epoch = 1266, loss = 1.0581)\n",
            "Saving model (epoch = 1267, loss = 1.0580)\n",
            "Saving model (epoch = 1275, loss = 1.0580)\n",
            "Saving model (epoch = 1285, loss = 1.0580)\n",
            "Saving model (epoch = 1302, loss = 1.0579)\n",
            "Saving model (epoch = 1326, loss = 1.0579)\n",
            "Saving model (epoch = 1332, loss = 1.0578)\n",
            "Saving model (epoch = 1405, loss = 1.0577)\n",
            "Saving model (epoch = 1408, loss = 1.0577)\n",
            "Saving model (epoch = 1410, loss = 1.0577)\n",
            "Saving model (epoch = 1418, loss = 1.0576)\n",
            "Saving model (epoch = 1436, loss = 1.0575)\n",
            "Saving model (epoch = 1484, loss = 1.0573)\n",
            "Saving model (epoch = 1541, loss = 1.0572)\n",
            "Saving model (epoch = 1571, loss = 1.0572)\n",
            "Saving model (epoch = 1592, loss = 1.0571)\n",
            "Saving model (epoch = 1608, loss = 1.0570)\n",
            "Saving model (epoch = 1644, loss = 1.0569)\n",
            "Saving model (epoch = 1651, loss = 1.0569)\n",
            "Saving model (epoch = 1659, loss = 1.0568)\n",
            "Saving model (epoch = 1663, loss = 1.0568)\n",
            "Saving model (epoch = 1691, loss = 1.0567)\n",
            "Saving model (epoch = 1715, loss = 1.0566)\n",
            "Saving model (epoch = 1743, loss = 1.0566)\n",
            "Saving model (epoch = 1749, loss = 1.0565)\n",
            "Saving model (epoch = 1797, loss = 1.0564)\n",
            "Saving model (epoch = 1802, loss = 1.0563)\n",
            "Saving model (epoch = 1819, loss = 1.0563)\n",
            "Saving model (epoch = 1830, loss = 1.0562)\n",
            "Saving model (epoch = 1891, loss = 1.0561)\n",
            "Saving model (epoch = 1912, loss = 1.0561)\n",
            "Saving model (epoch = 1928, loss = 1.0560)\n",
            "Saving model (epoch = 1935, loss = 1.0560)\n",
            "Saving model (epoch = 1951, loss = 1.0559)\n",
            "Saving model (epoch = 2010, loss = 1.0558)\n",
            "Saving model (epoch = 2066, loss = 1.0557)\n",
            "Saving model (epoch = 2113, loss = 1.0556)\n",
            "Saving model (epoch = 2141, loss = 1.0556)\n",
            "Saving model (epoch = 2156, loss = 1.0555)\n",
            "Saving model (epoch = 2159, loss = 1.0554)\n",
            "Saving model (epoch = 2195, loss = 1.0554)\n",
            "Saving model (epoch = 2198, loss = 1.0552)\n",
            "Saving model (epoch = 2272, loss = 1.0552)\n",
            "Saving model (epoch = 2280, loss = 1.0552)\n",
            "Saving model (epoch = 2316, loss = 1.0552)\n",
            "Saving model (epoch = 2324, loss = 1.0551)\n",
            "Saving model (epoch = 2354, loss = 1.0550)\n",
            "Saving model (epoch = 2368, loss = 1.0550)\n",
            "Saving model (epoch = 2403, loss = 1.0549)\n",
            "Saving model (epoch = 2407, loss = 1.0548)\n",
            "Saving model (epoch = 2445, loss = 1.0548)\n",
            "Saving model (epoch = 2472, loss = 1.0548)\n",
            "Saving model (epoch = 2495, loss = 1.0547)\n",
            "Saving model (epoch = 2503, loss = 1.0546)\n",
            "Saving model (epoch = 2535, loss = 1.0546)\n",
            "Saving model (epoch = 2543, loss = 1.0546)\n",
            "Saving model (epoch = 2548, loss = 1.0545)\n",
            "Saving model (epoch = 2550, loss = 1.0545)\n",
            "Saving model (epoch = 2569, loss = 1.0544)\n",
            "Saving model (epoch = 2602, loss = 1.0544)\n",
            "Saving model (epoch = 2619, loss = 1.0544)\n",
            "Saving model (epoch = 2644, loss = 1.0544)\n",
            "Saving model (epoch = 2664, loss = 1.0543)\n",
            "Saving model (epoch = 2684, loss = 1.0543)\n",
            "Saving model (epoch = 2697, loss = 1.0542)\n",
            "Saving model (epoch = 2734, loss = 1.0542)\n",
            "Saving model (epoch = 2737, loss = 1.0542)\n",
            "Saving model (epoch = 2740, loss = 1.0541)\n",
            "Saving model (epoch = 2758, loss = 1.0541)\n",
            "Saving model (epoch = 2762, loss = 1.0540)\n",
            "Saving model (epoch = 2786, loss = 1.0539)\n",
            "Saving model (epoch = 2792, loss = 1.0539)\n",
            "Saving model (epoch = 2830, loss = 1.0539)\n",
            "Saving model (epoch = 2872, loss = 1.0537)\n",
            "Saving model (epoch = 2906, loss = 1.0537)\n",
            "Saving model (epoch = 2949, loss = 1.0536)\n",
            "Saving model (epoch = 2965, loss = 1.0535)\n",
            "Saving model (epoch = 2986, loss = 1.0535)\n",
            "Saving model (epoch = 3007, loss = 1.0534)\n",
            "Saving model (epoch = 3044, loss = 1.0534)\n",
            "Saving model (epoch = 3049, loss = 1.0533)\n",
            "Saving model (epoch = 3081, loss = 1.0533)\n",
            "Saving model (epoch = 3127, loss = 1.0532)\n",
            "Saving model (epoch = 3141, loss = 1.0531)\n",
            "Saving model (epoch = 3234, loss = 1.0531)\n",
            "Saving model (epoch = 3241, loss = 1.0530)\n",
            "Saving model (epoch = 3244, loss = 1.0530)\n",
            "Saving model (epoch = 3272, loss = 1.0529)\n",
            "Saving model (epoch = 3294, loss = 1.0527)\n",
            "Saving model (epoch = 3361, loss = 1.0527)\n",
            "Saving model (epoch = 3416, loss = 1.0527)\n",
            "Saving model (epoch = 3438, loss = 1.0526)\n",
            "Saving model (epoch = 3462, loss = 1.0526)\n",
            "Saving model (epoch = 3471, loss = 1.0525)\n",
            "Saving model (epoch = 3534, loss = 1.0523)\n",
            "Saving model (epoch = 3590, loss = 1.0522)\n",
            "Saving model (epoch = 3646, loss = 1.0522)\n",
            "Saving model (epoch = 3683, loss = 1.0522)\n",
            "Saving model (epoch = 3686, loss = 1.0521)\n",
            "Saving model (epoch = 3726, loss = 1.0520)\n",
            "Saving model (epoch = 3740, loss = 1.0519)\n",
            "Saving model (epoch = 3751, loss = 1.0519)\n",
            "Saving model (epoch = 3787, loss = 1.0519)\n",
            "Saving model (epoch = 3795, loss = 1.0518)\n",
            "Saving model (epoch = 3810, loss = 1.0518)\n",
            "Saving model (epoch = 3812, loss = 1.0518)\n",
            "Saving model (epoch = 3828, loss = 1.0518)\n",
            "Saving model (epoch = 3856, loss = 1.0517)\n",
            "Saving model (epoch = 3889, loss = 1.0516)\n",
            "Saving model (epoch = 3915, loss = 1.0516)\n",
            "Saving model (epoch = 3968, loss = 1.0515)\n",
            "Saving model (epoch = 4005, loss = 1.0514)\n",
            "Saving model (epoch = 4019, loss = 1.0514)\n",
            "Saving model (epoch = 4029, loss = 1.0513)\n",
            "Saving model (epoch = 4103, loss = 1.0513)\n",
            "Saving model (epoch = 4114, loss = 1.0513)\n",
            "Saving model (epoch = 4116, loss = 1.0513)\n",
            "Saving model (epoch = 4133, loss = 1.0512)\n",
            "Saving model (epoch = 4137, loss = 1.0512)\n",
            "Saving model (epoch = 4150, loss = 1.0512)\n",
            "Saving model (epoch = 4179, loss = 1.0512)\n",
            "Saving model (epoch = 4224, loss = 1.0511)\n",
            "Saving model (epoch = 4228, loss = 1.0510)\n",
            "Saving model (epoch = 4277, loss = 1.0510)\n",
            "Saving model (epoch = 4305, loss = 1.0509)\n",
            "Saving model (epoch = 4327, loss = 1.0509)\n",
            "Saving model (epoch = 4358, loss = 1.0508)\n",
            "Saving model (epoch = 4399, loss = 1.0507)\n",
            "Saving model (epoch = 4410, loss = 1.0507)\n",
            "Saving model (epoch = 4435, loss = 1.0507)\n",
            "Saving model (epoch = 4448, loss = 1.0506)\n",
            "Saving model (epoch = 4470, loss = 1.0506)\n",
            "Saving model (epoch = 4504, loss = 1.0505)\n",
            "Saving model (epoch = 4519, loss = 1.0505)\n",
            "Saving model (epoch = 4539, loss = 1.0504)\n",
            "Saving model (epoch = 4592, loss = 1.0503)\n",
            "Saving model (epoch = 4593, loss = 1.0501)\n",
            "Saving model (epoch = 4741, loss = 1.0500)\n",
            "Saving model (epoch = 4816, loss = 1.0500)\n",
            "Saving model (epoch = 4831, loss = 1.0500)\n",
            "Saving model (epoch = 4851, loss = 1.0498)\n",
            "Saving model (epoch = 4908, loss = 1.0498)\n",
            "Saving model (epoch = 4928, loss = 1.0497)\n",
            "Saving model (epoch = 5045, loss = 1.0497)\n",
            "Saving model (epoch = 5052, loss = 1.0496)\n",
            "Saving model (epoch = 5072, loss = 1.0496)\n",
            "Saving model (epoch = 5089, loss = 1.0495)\n",
            "Saving model (epoch = 5097, loss = 1.0494)\n",
            "Saving model (epoch = 5176, loss = 1.0493)\n",
            "Saving model (epoch = 5180, loss = 1.0493)\n",
            "Saving model (epoch = 5184, loss = 1.0493)\n",
            "Saving model (epoch = 5250, loss = 1.0492)\n",
            "Saving model (epoch = 5267, loss = 1.0491)\n",
            "Saving model (epoch = 5283, loss = 1.0491)\n",
            "Saving model (epoch = 5284, loss = 1.0491)\n",
            "Saving model (epoch = 5304, loss = 1.0490)\n",
            "Saving model (epoch = 5351, loss = 1.0490)\n",
            "Saving model (epoch = 5389, loss = 1.0489)\n",
            "Saving model (epoch = 5403, loss = 1.0489)\n",
            "Saving model (epoch = 5426, loss = 1.0489)\n",
            "Saving model (epoch = 5455, loss = 1.0488)\n",
            "Saving model (epoch = 5589, loss = 1.0487)\n",
            "Saving model (epoch = 5594, loss = 1.0487)\n",
            "Saving model (epoch = 5599, loss = 1.0486)\n",
            "Saving model (epoch = 5615, loss = 1.0486)\n",
            "Saving model (epoch = 5625, loss = 1.0485)\n",
            "Saving model (epoch = 5627, loss = 1.0484)\n",
            "Saving model (epoch = 5670, loss = 1.0484)\n",
            "Saving model (epoch = 5718, loss = 1.0484)\n",
            "Saving model (epoch = 5731, loss = 1.0483)\n",
            "Saving model (epoch = 5746, loss = 1.0483)\n",
            "Saving model (epoch = 5754, loss = 1.0482)\n",
            "Saving model (epoch = 5755, loss = 1.0482)\n",
            "Saving model (epoch = 5880, loss = 1.0480)\n",
            "Saving model (epoch = 5921, loss = 1.0480)\n",
            "Saving model (epoch = 6002, loss = 1.0479)\n",
            "Saving model (epoch = 6037, loss = 1.0478)\n",
            "Saving model (epoch = 6068, loss = 1.0478)\n",
            "Saving model (epoch = 6106, loss = 1.0478)\n",
            "Saving model (epoch = 6114, loss = 1.0477)\n",
            "Saving model (epoch = 6193, loss = 1.0476)\n",
            "Saving model (epoch = 6240, loss = 1.0476)\n",
            "Saving model (epoch = 6246, loss = 1.0475)\n",
            "Saving model (epoch = 6296, loss = 1.0475)\n",
            "Saving model (epoch = 6312, loss = 1.0475)\n",
            "Saving model (epoch = 6314, loss = 1.0473)\n",
            "Saving model (epoch = 6401, loss = 1.0473)\n",
            "Saving model (epoch = 6435, loss = 1.0472)\n",
            "Saving model (epoch = 6503, loss = 1.0471)\n",
            "Saving model (epoch = 6515, loss = 1.0470)\n",
            "Saving model (epoch = 6593, loss = 1.0470)\n",
            "Saving model (epoch = 6599, loss = 1.0469)\n",
            "Saving model (epoch = 6659, loss = 1.0469)\n",
            "Saving model (epoch = 6673, loss = 1.0469)\n",
            "Saving model (epoch = 6695, loss = 1.0468)\n",
            "Saving model (epoch = 6733, loss = 1.0467)\n",
            "Saving model (epoch = 6755, loss = 1.0467)\n",
            "Saving model (epoch = 6796, loss = 1.0467)\n",
            "Saving model (epoch = 6829, loss = 1.0466)\n",
            "Saving model (epoch = 6894, loss = 1.0465)\n",
            "Saving model (epoch = 6907, loss = 1.0464)\n",
            "Saving model (epoch = 6937, loss = 1.0464)\n",
            "Saving model (epoch = 6996, loss = 1.0463)\n",
            "Saving model (epoch = 7028, loss = 1.0463)\n",
            "Saving model (epoch = 7057, loss = 1.0463)\n",
            "Saving model (epoch = 7088, loss = 1.0462)\n",
            "Saving model (epoch = 7119, loss = 1.0461)\n",
            "Saving model (epoch = 7196, loss = 1.0460)\n",
            "Saving model (epoch = 7268, loss = 1.0460)\n",
            "Saving model (epoch = 7297, loss = 1.0459)\n",
            "Saving model (epoch = 7351, loss = 1.0459)\n",
            "Saving model (epoch = 7363, loss = 1.0457)\n",
            "Saving model (epoch = 7474, loss = 1.0456)\n",
            "Saving model (epoch = 7517, loss = 1.0455)\n",
            "Saving model (epoch = 7540, loss = 1.0455)\n",
            "Saving model (epoch = 7609, loss = 1.0455)\n",
            "Saving model (epoch = 7675, loss = 1.0454)\n",
            "Saving model (epoch = 7741, loss = 1.0454)\n",
            "Saving model (epoch = 7808, loss = 1.0454)\n",
            "Saving model (epoch = 7810, loss = 1.0452)\n",
            "Saving model (epoch = 7846, loss = 1.0451)\n",
            "Saving model (epoch = 7898, loss = 1.0451)\n",
            "Saving model (epoch = 7964, loss = 1.0450)\n",
            "Saving model (epoch = 7966, loss = 1.0449)\n",
            "Saving model (epoch = 8054, loss = 1.0449)\n",
            "Saving model (epoch = 8121, loss = 1.0448)\n",
            "Saving model (epoch = 8168, loss = 1.0448)\n",
            "Saving model (epoch = 8177, loss = 1.0446)\n",
            "Saving model (epoch = 8259, loss = 1.0445)\n",
            "Saving model (epoch = 8293, loss = 1.0445)\n",
            "Saving model (epoch = 8394, loss = 1.0444)\n",
            "Saving model (epoch = 8452, loss = 1.0443)\n",
            "Saving model (epoch = 8492, loss = 1.0443)\n",
            "Saving model (epoch = 8548, loss = 1.0443)\n",
            "Saving model (epoch = 8578, loss = 1.0442)\n",
            "Saving model (epoch = 8620, loss = 1.0441)\n",
            "Saving model (epoch = 8646, loss = 1.0441)\n",
            "Saving model (epoch = 8656, loss = 1.0441)\n",
            "Saving model (epoch = 8678, loss = 1.0440)\n",
            "Saving model (epoch = 8703, loss = 1.0439)\n",
            "Saving model (epoch = 8872, loss = 1.0439)\n",
            "Saving model (epoch = 8888, loss = 1.0439)\n",
            "Saving model (epoch = 8926, loss = 1.0438)\n",
            "Saving model (epoch = 9046, loss = 1.0437)\n",
            "Saving model (epoch = 9072, loss = 1.0436)\n",
            "Saving model (epoch = 9094, loss = 1.0436)\n",
            "Saving model (epoch = 9106, loss = 1.0435)\n",
            "Saving model (epoch = 9143, loss = 1.0434)\n",
            "Saving model (epoch = 9232, loss = 1.0434)\n",
            "Saving model (epoch = 9234, loss = 1.0434)\n",
            "Saving model (epoch = 9314, loss = 1.0433)\n",
            "Saving model (epoch = 9343, loss = 1.0432)\n",
            "Saving model (epoch = 9438, loss = 1.0432)\n",
            "Saving model (epoch = 9456, loss = 1.0431)\n",
            "Saving model (epoch = 9502, loss = 1.0430)\n",
            "Saving model (epoch = 9591, loss = 1.0430)\n",
            "Saving model (epoch = 9607, loss = 1.0429)\n",
            "Saving model (epoch = 9638, loss = 1.0428)\n",
            "Saving model (epoch = 9695, loss = 1.0427)\n",
            "Saving model (epoch = 9769, loss = 1.0427)\n",
            "Saving model (epoch = 9775, loss = 1.0427)\n",
            "Saving model (epoch = 9833, loss = 1.0427)\n",
            "Saving model (epoch = 9916, loss = 1.0426)\n",
            "Saving model (epoch = 9969, loss = 1.0425)\n",
            "Saving model (epoch = 10018, loss = 1.0424)\n",
            "Saving model (epoch = 10145, loss = 1.0422)\n",
            "Saving model (epoch = 10398, loss = 1.0421)\n",
            "Saving model (epoch = 10423, loss = 1.0421)\n",
            "Saving model (epoch = 10532, loss = 1.0420)\n",
            "Saving model (epoch = 10535, loss = 1.0420)\n",
            "Saving model (epoch = 10555, loss = 1.0419)\n",
            "Saving model (epoch = 10643, loss = 1.0419)\n",
            "Saving model (epoch = 10739, loss = 1.0418)\n",
            "Saving model (epoch = 10749, loss = 1.0417)\n",
            "Saving model (epoch = 10901, loss = 1.0417)\n",
            "Saving model (epoch = 10902, loss = 1.0416)\n",
            "Saving model (epoch = 10922, loss = 1.0416)\n",
            "Saving model (epoch = 10992, loss = 1.0415)\n",
            "Saving model (epoch = 11023, loss = 1.0415)\n",
            "Saving model (epoch = 11069, loss = 1.0415)\n",
            "Saving model (epoch = 11100, loss = 1.0414)\n",
            "Saving model (epoch = 11164, loss = 1.0413)\n",
            "Saving model (epoch = 11181, loss = 1.0413)\n",
            "Saving model (epoch = 11182, loss = 1.0412)\n",
            "Saving model (epoch = 11244, loss = 1.0412)\n",
            "Saving model (epoch = 11396, loss = 1.0412)\n",
            "Saving model (epoch = 11414, loss = 1.0410)\n",
            "Saving model (epoch = 11560, loss = 1.0410)\n",
            "Saving model (epoch = 11601, loss = 1.0410)\n",
            "Saving model (epoch = 11655, loss = 1.0409)\n",
            "Saving model (epoch = 11677, loss = 1.0409)\n",
            "Saving model (epoch = 11695, loss = 1.0408)\n",
            "Saving model (epoch = 11712, loss = 1.0407)\n",
            "Saving model (epoch = 11899, loss = 1.0407)\n",
            "Saving model (epoch = 11988, loss = 1.0406)\n",
            "Saving model (epoch = 12006, loss = 1.0405)\n",
            "Saving model (epoch = 12238, loss = 1.0405)\n",
            "Saving model (epoch = 12376, loss = 1.0405)\n",
            "Saving model (epoch = 12383, loss = 1.0404)\n",
            "Saving model (epoch = 12402, loss = 1.0403)\n",
            "Saving model (epoch = 12414, loss = 1.0402)\n",
            "Saving model (epoch = 12574, loss = 1.0401)\n",
            "Saving model (epoch = 12618, loss = 1.0400)\n",
            "Saving model (epoch = 12826, loss = 1.0399)\n",
            "Saving model (epoch = 12877, loss = 1.0398)\n",
            "Saving model (epoch = 13069, loss = 1.0398)\n",
            "Saving model (epoch = 13080, loss = 1.0398)\n",
            "Saving model (epoch = 13099, loss = 1.0398)\n",
            "Saving model (epoch = 13105, loss = 1.0396)\n",
            "Finished training after 13406 epochs\n"
          ],
          "name": "stdout"
        }
      ]
    },
    {
      "cell_type": "code",
      "metadata": {
        "colab": {
          "base_uri": "https://localhost:8080/",
          "height": 330
        },
        "id": "hsNO9nnXQBvP",
        "outputId": "8d8fda7c-8d77-4ab8-d2fe-8610707cd0bc"
      },
      "source": [
        "plot_learning_curve(model_loss_record, title='deep model')"
      ],
      "execution_count": null,
      "outputs": [
        {
          "output_type": "display_data",
          "data": {
            "image/png": "[encoded data removed]",
            "text/plain": [
              "<Figure size 432x288 with 1 Axes>"
            ]
          },
          "metadata": {
            "tags": [],
            "needs_background": "light"
          }
        },
        {
          "output_type": "stream",
          "text": [
            "0.8467915654182434\n",
            "1.0397266149520874\n"
          ],
          "name": "stdout"
        }
      ]
    },
    {
      "cell_type": "code",
      "metadata": {
        "colab": {
          "base_uri": "https://localhost:8080/",
          "height": 350
        },
        "id": "3iZTVn5WQFpX",
        "outputId": "8bb4b923-33a2-453c-c50b-116ccfc912d2"
      },
      "source": [
        "del model\n",
        "model = NeuralNet(tr_set.dataset.dim).to(device)\n",
        "ckpt = torch.load(config['save_path'], map_location='cpu')  # Load your best model\n",
        "model.load_state_dict(ckpt)\n",
        "plot_pred(dv_set, model, device)  # Show prediction on the validation set"
      ],
      "execution_count": null,
      "outputs": [
        {
          "output_type": "display_data",
          "data": {
            "image/png": "[encoded data removed]",
            "text/plain": [
              "<Figure size 360x360 with 1 Axes>"
            ]
          },
          "metadata": {
            "tags": [],
            "needs_background": "light"
          }
        }
      ]
    },
    {
      "cell_type": "markdown",
      "metadata": {
        "id": "aQikz3IPiyPf"
      },
      "source": [
        "# **Testing**\n",
        "The predictions of your model on testing set will be stored at `pred.csv`."
      ]
    },
    {
      "cell_type": "code",
      "metadata": {
        "colab": {
          "base_uri": "https://localhost:8080/"
        },
        "id": "O8cTuQjQQOon",
        "outputId": "8330b3fd-596a-40f8-c0d4-95f83ffd868e"
      },
      "source": [
        "def save_pred(preds, file):\n",
        "    ''' Save predictions to specified file '''\n",
        "    print('Saving results to {}'.format(file))\n",
        "    with open(file, 'w') as fp:\n",
        "        writer = csv.writer(fp)\n",
        "        writer.writerow(['id', 'tested_positive'])\n",
        "        for i, p in enumerate(preds):\n",
        "            writer.writerow([i, p])\n",
        "\n",
        "preds = test(tt_set, model, device)  # predict COVID-19 cases with your model\n",
        "save_pred(preds, 'pred.csv')         # save prediction file to pred.csv"
      ],
      "execution_count": null,
      "outputs": [
        {
          "output_type": "stream",
          "text": [
            "Saving results to pred.csv\n"
          ],
          "name": "stdout"
        }
      ]
    },
    {
      "cell_type": "markdown",
      "metadata": {
        "id": "nfrVxqJanGpE"
      },
      "source": [
        "# **Hints**\n",
        "\n",
        "## **Simple Baseline**\n",
        "* Run sample code\n",
        "\n",
        "## **Medium Baseline**\n",
        "* Feature selection: 40 states + 2 `tested_positive` (`TODO` in dataset)\n",
        "\n",
        "## **Strong Baseline**\n",
        "* Feature selection (what other features are useful?)\n",
        "* DNN architecture (layers? dimension? activation function?)\n",
        "* Training (mini-batch? optimizer? learning rate?)\n",
        "* L2 regularization\n",
        "* There are some mistakes in the sample code, can you find them?"
      ]
    },
    {
      "cell_type": "markdown",
      "metadata": {
        "id": "9tmCwXgpot3t"
      },
      "source": [
        "# **Reference**\n",
        "This code is completely written by Heng-Jui Chang @ NTUEE.  \n",
        "Copying or reusing this code is required to specify the original author. \n",
        "\n",
        "E.g.  \n",
        "Source: Heng-Jui Chang @ NTUEE (https://github.com/ga642381/ML2021-Spring/blob/main/HW01/HW01.ipynb)\n"
      ]
    }
  ]
}